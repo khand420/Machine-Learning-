{
 "cells": [
  {
   "cell_type": "markdown",
   "id": "96c8fd43",
   "metadata": {},
   "source": [
    "# KNN Algorithm (K Nearest Neighbors)\n",
    "\n",
    "- this alogrithm used in both Regression and classification problems. it based on feature simillarity approach.\n",
    "\n",
    "- for Example:-\n",
    "  1. Finance(Financial Institute predict the credit card rating of a customer. In baking institue will predict wether low and safe or risk).\n",
    "  2. Healthcare\n",
    "  3. Political Science(Will Vote or Note) \n",
    "  4. Handwriting Detection \n",
    "  5. Image & Video Recognization "
   ]
  },
  {
   "cell_type": "code",
   "execution_count": 25,
   "id": "5e5158e6",
   "metadata": {},
   "outputs": [
    {
     "data": {
      "image/png": "[encoded data removed]",
      "text/plain": [
       "<IPython.core.display.Image object>"
      ]
     },
     "execution_count": 25,
     "metadata": {},
     "output_type": "execute_result"
    }
   ],
   "source": [
    "# ![title](\"knn.png\")\n",
    "from IPython.display import Image\n",
    "Image(\"knn.png\")"
   ]
  },
  {
   "cell_type": "code",
   "execution_count": 23,
   "id": "89063fe1",
   "metadata": {},
   "outputs": [
    {
     "name": "stderr",
     "output_type": "stream",
     "text": [
      "'[knn.png]' is not recognized as an internal or external command,\n",
      "operable program or batch file.\n"
     ]
    }
   ],
   "source": [
    "![knn.png](knn.png)\n"
   ]
  },
  {
   "cell_type": "markdown",
   "id": "c7ad13b3",
   "metadata": {},
   "source": [
    "### Classifier Building in python and Scikit-learn\n",
    "we can use the vine dataset, which is a very famous multi-class classification problems. This data is the result of a chemical analysis of wines grown in the same region in Italy using three different cultivars. The analysis determined the quantities of 18 constituent found in each of the three types wines."
   ]
  },
  {
   "cell_type": "code",
   "execution_count": 3,
   "id": "cf4b2cb0",
   "metadata": {},
   "outputs": [],
   "source": [
    "from sklearn import datasets"
   ]
  },
  {
   "cell_type": "code",
   "execution_count": 4,
   "id": "a65a11db",
   "metadata": {},
   "outputs": [],
   "source": [
    "wine = datasets.load_wine()"
   ]
  },
  {
   "cell_type": "code",
   "execution_count": 5,
   "id": "73f58ab0",
   "metadata": {},
   "outputs": [
    {
     "data": {
      "text/plain": [
       "dict_keys(['data', 'target', 'frame', 'target_names', 'DESCR', 'feature_names'])"
      ]
     },
     "execution_count": 5,
     "metadata": {},
     "output_type": "execute_result"
    }
   ],
   "source": [
    "wine.keys()"
   ]
  },
  {
   "cell_type": "code",
   "execution_count": 6,
   "id": "c692c34e",
   "metadata": {},
   "outputs": [
    {
     "data": {
      "text/plain": [
       "array([[1.423e+01, 1.710e+00, 2.430e+00, ..., 1.040e+00, 3.920e+00,\n",
       "        1.065e+03],\n",
       "       [1.320e+01, 1.780e+00, 2.140e+00, ..., 1.050e+00, 3.400e+00,\n",
       "        1.050e+03],\n",
       "       [1.316e+01, 2.360e+00, 2.670e+00, ..., 1.030e+00, 3.170e+00,\n",
       "        1.185e+03],\n",
       "       ...,\n",
       "       [1.327e+01, 4.280e+00, 2.260e+00, ..., 5.900e-01, 1.560e+00,\n",
       "        8.350e+02],\n",
       "       [1.317e+01, 2.590e+00, 2.370e+00, ..., 6.000e-01, 1.620e+00,\n",
       "        8.400e+02],\n",
       "       [1.413e+01, 4.100e+00, 2.740e+00, ..., 6.100e-01, 1.600e+00,\n",
       "        5.600e+02]])"
      ]
     },
     "execution_count": 6,
     "metadata": {},
     "output_type": "execute_result"
    }
   ],
   "source": [
    "# wine.DESCR\n",
    "# wine.feature_names\n",
    "# wine.target_names\n",
    "# wine.target\n",
    "wine.data"
   ]
  },
  {
   "cell_type": "markdown",
   "id": "a6524202",
   "metadata": {},
   "source": [
    "- This Dataset comprises 13 features ('alcohol', 'mallic_acid', 'ash'.......etc. \n",
    "- This data has three types of cultivar classses: \\class_0, \\class_1 .... etc.\n",
    "- This dataset available int scikt-learn library, or you can also download it from the UCI Machine Learning Library"
   ]
  },
  {
   "cell_type": "code",
   "execution_count": 29,
   "id": "5c527a77",
   "metadata": {},
   "outputs": [],
   "source": [
    "import numpy as np\n",
    "import pandas as pd\n",
    "import seaborn as sns\n",
    "import matplotlib.pyplot as plt\n",
    "%matplotlib inline\n"
   ]
  },
  {
   "cell_type": "code",
   "execution_count": 33,
   "id": "ebd1cc8a",
   "metadata": {},
   "outputs": [],
   "source": [
    "X = wine.data\n",
    "y = wine.target"
   ]
  },
  {
   "cell_type": "code",
   "execution_count": 34,
   "id": "e28604a4",
   "metadata": {},
   "outputs": [],
   "source": [
    "from sklearn.model_selection import train_test_split\n",
    "X_train, X_test, y_train, y_test = train_test_split(X,y, test_size=0.3, random_state=42, stratify=y)"
   ]
  },
  {
   "cell_type": "markdown",
   "id": "0b9c2286",
   "metadata": {},
   "source": [
    "### Generating Model for K = 3"
   ]
  },
  {
   "cell_type": "code",
   "execution_count": 35,
   "id": "746784ed",
   "metadata": {},
   "outputs": [],
   "source": [
    "from sklearn.neighbors import KNeighborsClassifier\n",
    "from sklearn import metrics\n"
   ]
  },
  {
   "cell_type": "code",
   "execution_count": 36,
   "id": "f1e9db6c",
   "metadata": {},
   "outputs": [
    {
     "name": "stdout",
     "output_type": "stream",
     "text": [
      "Accuracy:  0.6851851851851852\n"
     ]
    }
   ],
   "source": [
    "knn = KNeighborsClassifier(n_neighbors=3)\n",
    "knn.fit(X_train, y_train)\n",
    "y_predict = knn.predict(X_test)\n",
    "print('Accuracy: ', metrics.accuracy_score(y_test, y_predict))"
   ]
  },
  {
   "cell_type": "markdown",
   "id": "20ca7929",
   "metadata": {},
   "source": [
    "### Generating Model for K = 5"
   ]
  },
  {
   "cell_type": "code",
   "execution_count": 37,
   "id": "7d87fb1a",
   "metadata": {},
   "outputs": [
    {
     "name": "stdout",
     "output_type": "stream",
     "text": [
      "Accuracy:  0.7222222222222222\n"
     ]
    }
   ],
   "source": [
    "knn = KNeighborsClassifier(n_neighbors=5)\n",
    "knn.fit(X_train, y_train)\n",
    "y_predict = knn.predict(X_test)\n",
    "print('Accuracy: ', metrics.accuracy_score(y_test, y_predict))"
   ]
  },
  {
   "cell_type": "markdown",
   "id": "8df08276",
   "metadata": {},
   "source": [
    "### Generating Model for K = 7"
   ]
  },
  {
   "cell_type": "code",
   "execution_count": 38,
   "id": "55398e91",
   "metadata": {},
   "outputs": [
    {
     "name": "stdout",
     "output_type": "stream",
     "text": [
      "Accuracy:  0.7407407407407407\n"
     ]
    }
   ],
   "source": [
    "knn = KNeighborsClassifier(n_neighbors=7)\n",
    "knn.fit(X_train, y_train)\n",
    "y_predict = knn.predict(X_test)\n",
    "print('Accuracy: ', metrics.accuracy_score(y_test, y_predict))"
   ]
  },
  {
   "cell_type": "markdown",
   "id": "c741a8d6",
   "metadata": {},
   "source": [
    "## To Improve KKN agorithm use  Standarlization"
   ]
  },
  {
   "cell_type": "code",
   "execution_count": 39,
   "id": "a9ed3049",
   "metadata": {},
   "outputs": [],
   "source": [
    "from sklearn.preprocessing import StandardScaler"
   ]
  },
  {
   "cell_type": "code",
   "execution_count": 45,
   "id": "e4deb981",
   "metadata": {},
   "outputs": [
    {
     "data": {
      "text/plain": [
       "array([[ 1.51861254, -0.5622498 ,  0.23205254, ...,  0.36217728,\n",
       "         1.84791957,  1.01300893],\n",
       "       [ 0.24628963, -0.49941338, -0.82799632, ...,  0.40605066,\n",
       "         1.1134493 ,  0.96524152],\n",
       "       [ 0.19687903,  0.02123125,  1.10933436, ...,  0.31830389,\n",
       "         0.78858745,  1.39514818],\n",
       "       ...,\n",
       "       [ 0.33275817,  1.74474449, -0.38935541, ..., -1.61212515,\n",
       "        -1.48544548,  0.28057537],\n",
       "       [ 0.20923168,  0.22769377,  0.01273209, ..., -1.56825176,\n",
       "        -1.40069891,  0.29649784],\n",
       "       [ 1.39508604,  1.58316512,  1.36520822, ..., -1.52437837,\n",
       "        -1.42894777, -0.59516041]])"
      ]
     },
     "execution_count": 45,
     "metadata": {},
     "output_type": "execute_result"
    }
   ],
   "source": [
    "scaler = StandardScaler()\n",
    "X_scaled = scaler.fit_transform(X)\n",
    "X_scaled"
   ]
  },
  {
   "cell_type": "code",
   "execution_count": 47,
   "id": "ae7467fa",
   "metadata": {},
   "outputs": [
    {
     "name": "stdout",
     "output_type": "stream",
     "text": [
      "Accuracy:  0.9629629629629629\n"
     ]
    }
   ],
   "source": [
    "X_train, X_test, y_train, y_test = train_test_split(X_scaled,y, test_size=0.3, random_state=0, stratify=y)\n",
    "\n",
    "knn = KNeighborsClassifier(n_neighbors=7)\n",
    "knn.fit(X_train, y_train)\n",
    "\n",
    "y_predict = knn.predict(X_test)\n",
    "print('Accuracy: ', metrics.accuracy_score(y_test, y_predict))"
   ]
  },
  {
   "cell_type": "markdown",
   "id": "6e9e307a",
   "metadata": {},
   "source": [
    "## Parameter Tuning with Cross Validation\n"
   ]
  },
  {
   "cell_type": "code",
   "execution_count": 57,
   "id": "51fec7b5",
   "metadata": {},
   "outputs": [],
   "source": [
    "from sklearn.model_selection import cross_val_score"
   ]
  },
  {
   "cell_type": "code",
   "execution_count": 59,
   "id": "15644fc1",
   "metadata": {},
   "outputs": [],
   "source": [
    "neigbhors = list(range(1, 50, 2))\n",
    "cv_scores = []\n",
    "\n",
    "for k in neigbhors:\n",
    "    knn = KNeighborsClassifier(n_neighbors=k)\n",
    "    scores = cross_val_score(knn, X_scaled, y, cv = 10, scoring='accuracy')\n",
    "    cv_scores.append(scores.mean())"
   ]
  },
  {
   "cell_type": "code",
   "execution_count": 60,
   "id": "ad9942f3",
   "metadata": {},
   "outputs": [
    {
     "data": {
      "text/plain": [
       "[0.9434640522875817,\n",
       " 0.9545751633986927,\n",
       " 0.9604575163398692,\n",
       " 0.9663398692810456,\n",
       " 0.9718954248366012,\n",
       " 0.9718954248366012,\n",
       " 0.9663398692810456,\n",
       " 0.9663398692810456,\n",
       " 0.9722222222222221,\n",
       " 0.9722222222222221,\n",
       " 0.9722222222222221,\n",
       " 0.9833333333333334,\n",
       " 0.9718954248366012,\n",
       " 0.9718954248366012,\n",
       " 0.9660130718954247,\n",
       " 0.9660130718954247,\n",
       " 0.9777777777777779,\n",
       " 0.9777777777777779,\n",
       " 0.9722222222222221,\n",
       " 0.9722222222222221,\n",
       " 0.9663398692810456,\n",
       " 0.9663398692810456,\n",
       " 0.9604575163398692,\n",
       " 0.9604575163398692,\n",
       " 0.9604575163398692]"
      ]
     },
     "execution_count": 60,
     "metadata": {},
     "output_type": "execute_result"
    }
   ],
   "source": [
    "cv_scores"
   ]
  },
  {
   "cell_type": "code",
   "execution_count": 61,
   "id": "ac69826f",
   "metadata": {},
   "outputs": [
    {
     "data": {
      "text/plain": [
       "[0.05653594771241832,\n",
       " 0.04542483660130725,\n",
       " 0.0395424836601308,\n",
       " 0.03366013071895435,\n",
       " 0.028104575163398815,\n",
       " 0.028104575163398815,\n",
       " 0.03366013071895435,\n",
       " 0.03366013071895435,\n",
       " 0.0277777777777779,\n",
       " 0.0277777777777779,\n",
       " 0.0277777777777779,\n",
       " 0.016666666666666607,\n",
       " 0.028104575163398815,\n",
       " 0.028104575163398815,\n",
       " 0.033986928104575265,\n",
       " 0.033986928104575265,\n",
       " 0.022222222222222143,\n",
       " 0.022222222222222143,\n",
       " 0.0277777777777779,\n",
       " 0.0277777777777779,\n",
       " 0.03366013071895435,\n",
       " 0.03366013071895435,\n",
       " 0.0395424836601308,\n",
       " 0.0395424836601308,\n",
       " 0.0395424836601308]"
      ]
     },
     "execution_count": 61,
     "metadata": {},
     "output_type": "execute_result"
    }
   ],
   "source": [
    "MSE = [1- x for x in cv_scores]\n",
    "MSE"
   ]
  },
  {
   "cell_type": "code",
   "execution_count": 64,
   "id": "330aea90",
   "metadata": {},
   "outputs": [
    {
     "name": "stdout",
     "output_type": "stream",
     "text": [
      "The optimal number of k is:  23\n"
     ]
    }
   ],
   "source": [
    "optimal_k = neigbhors[MSE.index(min(MSE))]\n",
    "print(\"The optimal number of k is: \", optimal_k)"
   ]
  },
  {
   "cell_type": "code",
   "execution_count": 65,
   "id": "5efb5061",
   "metadata": {
    "scrolled": true
   },
   "outputs": [
    {
     "data": {
      "image/png": "[encoded data removed]",
      "text/plain": [
       "<Figure size 432x288 with 1 Axes>"
      ]
     },
     "metadata": {
      "needs_background": "light"
     },
     "output_type": "display_data"
    }
   ],
   "source": [
    "plt.plot(neigbhors, MSE)\n",
    "plt.xlabel(\"Number of K\")\n",
    "plt.ylabel(\"Error\")\n",
    "plt.show()"
   ]
  },
  {
   "cell_type": "markdown",
   "id": "6722e560",
   "metadata": {},
   "source": [
    "# The optimal number of k is:  23 and it give high accuracy"
   ]
  },
  {
   "cell_type": "code",
   "execution_count": 70,
   "id": "add9be0b",
   "metadata": {},
   "outputs": [
    {
     "name": "stdout",
     "output_type": "stream",
     "text": [
      "Accuracy:  0.9814814814814815\n"
     ]
    }
   ],
   "source": [
    "\n",
    "X_train, X_test, y_train, y_test = train_test_split(X_scaled,y, test_size=0.3, random_state=0, stratify=y)\n",
    "\n",
    "knn = KNeighborsClassifier(n_neighbors=23)\n",
    "knn.fit(X_train, y_train)\n",
    "\n",
    "y_predict = knn.predict(X_test)\n",
    "print('Accuracy: ', metrics.accuracy_score(y_test, y_predict))"
   ]
  },
  {
   "cell_type": "code",
   "execution_count": null,
   "id": "d5d82411",
   "metadata": {},
   "outputs": [],
   "source": []
  }
 ],
 "metadata": {
  "kernelspec": {
   "display_name": "Python 3 (ipykernel)",
   "language": "python",
   "name": "python3"
  },
  "language_info": {
   "codemirror_mode": {
    "name": "ipython",
    "version": 3
   },
   "file_extension": ".py",
   "mimetype": "text/x-python",
   "name": "python",
   "nbconvert_exporter": "python",
   "pygments_lexer": "ipython3",
   "version": "3.7.9"
  }
 },
 "nbformat": 4,
 "nbformat_minor": 5
}
